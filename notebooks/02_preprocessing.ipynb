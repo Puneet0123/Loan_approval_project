{
 "cells": [
  {
   "cell_type": "markdown",
   "id": "9b11fe05-4646-424e-8822-3a9047beaedc",
   "metadata": {},
   "source": [
    "## Loan Approval Prediction - Data Preprocessing\n",
    "This notebook performs feature engineering, encoding, scaling, and splitting of data to prepare it for machine learning models."
   ]
  },
  {
   "cell_type": "markdown",
   "id": "4775df7e-3e61-45fb-92d9-dbba28feac8f",
   "metadata": {},
   "source": [
    "### Step 1: Import Libraries & Load Dataset"
   ]
  },
  {
   "cell_type": "code",
   "execution_count": 1,
   "id": "e731f2bc-945c-408d-844b-49604b991d34",
   "metadata": {},
   "outputs": [
    {
     "data": {
      "text/html": [
       "<div>\n",
       "<style scoped>\n",
       "    .dataframe tbody tr th:only-of-type {\n",
       "        vertical-align: middle;\n",
       "    }\n",
       "\n",
       "    .dataframe tbody tr th {\n",
       "        vertical-align: top;\n",
       "    }\n",
       "\n",
       "    .dataframe thead th {\n",
       "        text-align: right;\n",
       "    }\n",
       "</style>\n",
       "<table border=\"1\" class=\"dataframe\">\n",
       "  <thead>\n",
       "    <tr style=\"text-align: right;\">\n",
       "      <th></th>\n",
       "      <th>Loan_ID</th>\n",
       "      <th>Gender</th>\n",
       "      <th>Married</th>\n",
       "      <th>Dependents</th>\n",
       "      <th>Education</th>\n",
       "      <th>Self_Employed</th>\n",
       "      <th>ApplicantIncome</th>\n",
       "      <th>CoapplicantIncome</th>\n",
       "      <th>LoanAmount</th>\n",
       "      <th>Loan_Amount_Term</th>\n",
       "      <th>Credit_History</th>\n",
       "      <th>Property_Area</th>\n",
       "      <th>Loan_Status</th>\n",
       "    </tr>\n",
       "  </thead>\n",
       "  <tbody>\n",
       "    <tr>\n",
       "      <th>0</th>\n",
       "      <td>LP001002</td>\n",
       "      <td>Male</td>\n",
       "      <td>No</td>\n",
       "      <td>0</td>\n",
       "      <td>Graduate</td>\n",
       "      <td>No</td>\n",
       "      <td>5849</td>\n",
       "      <td>0.0</td>\n",
       "      <td>130.0</td>\n",
       "      <td>360.0</td>\n",
       "      <td>1.0</td>\n",
       "      <td>Urban</td>\n",
       "      <td>Y</td>\n",
       "    </tr>\n",
       "    <tr>\n",
       "      <th>1</th>\n",
       "      <td>LP001003</td>\n",
       "      <td>Male</td>\n",
       "      <td>Yes</td>\n",
       "      <td>1</td>\n",
       "      <td>Graduate</td>\n",
       "      <td>No</td>\n",
       "      <td>4583</td>\n",
       "      <td>1508.0</td>\n",
       "      <td>128.0</td>\n",
       "      <td>360.0</td>\n",
       "      <td>1.0</td>\n",
       "      <td>Rural</td>\n",
       "      <td>N</td>\n",
       "    </tr>\n",
       "    <tr>\n",
       "      <th>2</th>\n",
       "      <td>LP001005</td>\n",
       "      <td>Male</td>\n",
       "      <td>Yes</td>\n",
       "      <td>0</td>\n",
       "      <td>Graduate</td>\n",
       "      <td>Yes</td>\n",
       "      <td>3000</td>\n",
       "      <td>0.0</td>\n",
       "      <td>66.0</td>\n",
       "      <td>360.0</td>\n",
       "      <td>1.0</td>\n",
       "      <td>Urban</td>\n",
       "      <td>Y</td>\n",
       "    </tr>\n",
       "    <tr>\n",
       "      <th>3</th>\n",
       "      <td>LP001006</td>\n",
       "      <td>Male</td>\n",
       "      <td>Yes</td>\n",
       "      <td>0</td>\n",
       "      <td>Not Graduate</td>\n",
       "      <td>No</td>\n",
       "      <td>2583</td>\n",
       "      <td>2358.0</td>\n",
       "      <td>120.0</td>\n",
       "      <td>360.0</td>\n",
       "      <td>1.0</td>\n",
       "      <td>Urban</td>\n",
       "      <td>Y</td>\n",
       "    </tr>\n",
       "    <tr>\n",
       "      <th>4</th>\n",
       "      <td>LP001008</td>\n",
       "      <td>Male</td>\n",
       "      <td>No</td>\n",
       "      <td>0</td>\n",
       "      <td>Graduate</td>\n",
       "      <td>No</td>\n",
       "      <td>6000</td>\n",
       "      <td>0.0</td>\n",
       "      <td>141.0</td>\n",
       "      <td>360.0</td>\n",
       "      <td>1.0</td>\n",
       "      <td>Urban</td>\n",
       "      <td>Y</td>\n",
       "    </tr>\n",
       "  </tbody>\n",
       "</table>\n",
       "</div>"
      ],
      "text/plain": [
       "    Loan_ID Gender Married Dependents     Education Self_Employed  \\\n",
       "0  LP001002   Male      No          0      Graduate            No   \n",
       "1  LP001003   Male     Yes          1      Graduate            No   \n",
       "2  LP001005   Male     Yes          0      Graduate           Yes   \n",
       "3  LP001006   Male     Yes          0  Not Graduate            No   \n",
       "4  LP001008   Male      No          0      Graduate            No   \n",
       "\n",
       "   ApplicantIncome  CoapplicantIncome  LoanAmount  Loan_Amount_Term  \\\n",
       "0             5849                0.0       130.0             360.0   \n",
       "1             4583             1508.0       128.0             360.0   \n",
       "2             3000                0.0        66.0             360.0   \n",
       "3             2583             2358.0       120.0             360.0   \n",
       "4             6000                0.0       141.0             360.0   \n",
       "\n",
       "   Credit_History Property_Area Loan_Status  \n",
       "0             1.0         Urban           Y  \n",
       "1             1.0         Rural           N  \n",
       "2             1.0         Urban           Y  \n",
       "3             1.0         Urban           Y  \n",
       "4             1.0         Urban           Y  "
      ]
     },
     "execution_count": 1,
     "metadata": {},
     "output_type": "execute_result"
    }
   ],
   "source": [
    "# Import Required Libraries\n",
    "import pandas as pd\n",
    "import numpy as np\n",
    "\n",
    "# Load the cleaned dataset\n",
    "df = pd.read_csv('../data/processed/loan_dataset.csv')\n",
    "df.head()"
   ]
  },
  {
   "cell_type": "markdown",
   "id": "bcf9671d-34c7-4c39-9b16-75b6739fda58",
   "metadata": {},
   "source": [
    "### Step 2: Drop Irrelevant Columns"
   ]
  },
  {
   "cell_type": "markdown",
   "id": "81072d0a-bcdd-4f2b-b0b0-cda9abd99872",
   "metadata": {},
   "source": [
    "Remove unique identifiers like `Loan_ID`."
   ]
  },
  {
   "cell_type": "code",
   "execution_count": 2,
   "id": "d52e00af-9776-4c98-9798-7c556313ef00",
   "metadata": {},
   "outputs": [],
   "source": [
    "df.drop(columns=['Loan_ID'], inplace=True)"
   ]
  },
  {
   "cell_type": "markdown",
   "id": "694af324-329c-4787-8db5-50dc5a22bbf4",
   "metadata": {},
   "source": [
    "### Step 3: Feature Engineering"
   ]
  },
  {
   "cell_type": "markdown",
   "id": "d73e4cbc-8c31-44a2-a853-59e0f9fa5f4f",
   "metadata": {},
   "source": [
    "Create new features to help model capture better patterns."
   ]
  },
  {
   "cell_type": "code",
   "execution_count": 3,
   "id": "4010ecdf-a08b-49ae-954a-1aa0013e1fa4",
   "metadata": {},
   "outputs": [],
   "source": [
    "# Total income of applicant and co-applicant\n",
    "df['Total_Income'] = df['ApplicantIncome'] + df['CoapplicantIncome']\n",
    "\n",
    "# Income to loan ratio\n",
    "df['Income_Loan_Ratio'] = df['Total_Income'] / df['LoanAmount']\n",
    "\n",
    "# Log transform for skewed loanAmount\n",
    "df['LoanAmount_log'] = np.log(df['LoanAmount'])\n",
    "\n",
    "# Drop original columns\n",
    "df.drop(['ApplicantIncome','CoapplicantIncome','LoanAmount'], axis=1, inplace=True)"
   ]
  },
  {
   "cell_type": "markdown",
   "id": "b9c3b579-f645-4c7d-995a-1b5420ccfb64",
   "metadata": {},
   "source": [
    "### Step 4: Encode Categorical Variables"
   ]
  },
  {
   "cell_type": "markdown",
   "id": "b9b2fcf1-1b2e-4e0b-8d0e-7badc4f533dd",
   "metadata": {},
   "source": [
    "Convert text-based categories into numerical values."
   ]
  },
  {
   "cell_type": "code",
   "execution_count": 4,
   "id": "0242a669-bc48-424e-b574-f48b6d0f7a71",
   "metadata": {},
   "outputs": [],
   "source": [
    "# Binary encoding \n",
    "df['Gender'] = df['Gender'].map({'Male':1, 'Female':0})\n",
    "df['Married'] = df['Married'].map({'Yes':1, 'No':0})\n",
    "df['Education'] = df['Education'].map({'Graduate':1, 'Not Graduate':0})\n",
    "df['Self_Employed'] = df['Self_Employed'].map({'Yes':1, 'No':0})\n",
    "df['Loan_Status'] = df['Loan_Status'].map({'Y':1, 'N':0})\n",
    "\n",
    "# One-hot encoding\n",
    "df = pd.get_dummies(df, columns=['Property_Area', 'Dependents'], drop_first=True)"
   ]
  },
  {
   "cell_type": "markdown",
   "id": "27a136d7-0bbe-4bdf-a91c-8790d53608aa",
   "metadata": {},
   "source": [
    "### Step 5: Outlier Removal\n",
    "Use the IQR method to remove extreme values."
   ]
  },
  {
   "cell_type": "code",
   "execution_count": 5,
   "id": "bfb716de-cc11-4f6e-8945-ebbc72827468",
   "metadata": {},
   "outputs": [],
   "source": [
    "Q1 = df['Total_Income'].quantile(0.25)\n",
    "Q3 = df['Total_Income'].quantile(0.75)\n",
    "\n",
    "IQR = Q3 - Q1\n",
    "df = df[(df['Total_Income'] >= Q1 - 1.5 * IQR) & (df['Total_Income'] <= Q3 + 1.5 * IQR)]"
   ]
  },
  {
   "cell_type": "code",
   "execution_count": 6,
   "id": "bb24995d-441e-475b-b775-3d9743aaef3c",
   "metadata": {},
   "outputs": [
    {
     "data": {
      "text/plain": [
       "(564, 15)"
      ]
     },
     "execution_count": 6,
     "metadata": {},
     "output_type": "execute_result"
    }
   ],
   "source": [
    "df.shape"
   ]
  },
  {
   "cell_type": "markdown",
   "id": "6e6bb83d-6889-4b8b-a011-9f21d8712e6e",
   "metadata": {},
   "source": [
    "### Step 6: Feature Scaling\n",
    "Scale numerical features using StandardScaler."
   ]
  },
  {
   "cell_type": "code",
   "execution_count": 7,
   "id": "c9fa31c7-1b1e-4bf6-b978-54af944a3470",
   "metadata": {},
   "outputs": [],
   "source": [
    "from sklearn.preprocessing import StandardScaler\n",
    "\n",
    "scaler = StandardScaler()\n",
    "scaled_cols = ['Total_Income', 'Income_Loan_Ratio','LoanAmount_log']\n",
    "df[scaled_cols] = scaler.fit_transform(df[scaled_cols])"
   ]
  },
  {
   "cell_type": "markdown",
   "id": "587ffae4-cac8-4a9e-be53-61ccb56e6f8a",
   "metadata": {},
   "source": [
    "### Step 7: Split Dataset\n",
    "Split the data into training and testing sets."
   ]
  },
  {
   "cell_type": "code",
   "execution_count": 8,
   "id": "daef301a-e224-497a-a6b6-fd237caff17e",
   "metadata": {},
   "outputs": [],
   "source": [
    "from sklearn.model_selection import train_test_split\n",
    "\n",
    "X = df.drop('Loan_Status', axis=1)\n",
    "y = df['Loan_Status']\n",
    "\n",
    "X_train, X_test, y_train, y_test = train_test_split(X, y, test_size=0.2,stratify=y, random_state= 42)"
   ]
  },
  {
   "cell_type": "markdown",
   "id": "d4e58413-7aad-4bdc-be91-49fe6ee870af",
   "metadata": {},
   "source": [
    "### Step 8: Save Processed Data\n",
    "Save the preprocessed datasets to data/processed"
   ]
  },
  {
   "cell_type": "code",
   "execution_count": 10,
   "id": "bd3cd13e-9670-4dca-8a5c-062ea17592c0",
   "metadata": {},
   "outputs": [],
   "source": [
    "X_train.to_csv('../data/processed/X_train.csv', index=False)\n",
    "X_test.to_csv('../data/processed/X_test.csv', index=False)\n",
    "y_train.to_csv('../data/processed/y_train.csv', index=False)\n",
    "y_test.to_csv('../data/processed/y_test.csv', index=False)"
   ]
  }
 ],
 "metadata": {
  "kernelspec": {
   "display_name": "Python 3 (ipykernel)",
   "language": "python",
   "name": "python3"
  },
  "language_info": {
   "codemirror_mode": {
    "name": "ipython",
    "version": 3
   },
   "file_extension": ".py",
   "mimetype": "text/x-python",
   "name": "python",
   "nbconvert_exporter": "python",
   "pygments_lexer": "ipython3",
   "version": "3.13.1"
  }
 },
 "nbformat": 4,
 "nbformat_minor": 5
}
