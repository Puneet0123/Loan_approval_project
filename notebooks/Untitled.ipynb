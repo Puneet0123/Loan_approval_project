{
 "cells": [
  {
   "cell_type": "code",
   "execution_count": 1,
   "id": "c79fb119-271a-473f-991a-3b7cca8cb972",
   "metadata": {},
   "outputs": [],
   "source": [
    "import joblib\n",
    "import pandas as pd\n",
    "import numpy as np\n",
    "import math \n",
    "from sklearn.preprocessing import StandardScaler\n"
   ]
  },
  {
   "cell_type": "code",
   "execution_count": 2,
   "id": "7ef18dea-c8f8-436f-9d62-c2fd6a049e70",
   "metadata": {},
   "outputs": [],
   "source": [
    "model = joblib.load('../best_model.pkl')\n",
    "threshold = joblib.load('../optimal_threshold.pkl')"
   ]
  },
  {
   "cell_type": "code",
   "execution_count": 12,
   "id": "e65cf083-96a9-4555-9c1a-4775e3a0d3c6",
   "metadata": {},
   "outputs": [],
   "source": [
    "gender = 'Male'\n",
    "married ='No'\n",
    "education = 'Graduate'\n",
    "applicant_income = 10000\n",
    "coapplicant_income = 0\n",
    "\n",
    "dependents = '0'\n",
    "self_employed = 'No'\n",
    "loan_amount = 1300000\n",
    "loan_term = 360\n",
    "property_area = 'Urban'\n",
    "credit_history = 1"
   ]
  },
  {
   "cell_type": "code",
   "execution_count": 7,
   "id": "54d9d569-76b2-4985-9609-7f67e8782bc0",
   "metadata": {},
   "outputs": [],
   "source": [
    "total_income = applicant_income + coapplicant_income\n",
    "income_loan_ration = total_income / loan_amount\n",
    "log_loan_amount = math.log(loan_amount)\n",
    "scaler_arr = np.array([total_income, income_loan_ration, log_loan_amount]).reshape(-1, 1)"
   ]
  },
  {
   "cell_type": "code",
   "execution_count": 8,
   "id": "8a4976e9-2c2a-4a64-a3cc-28c8b17e7e34",
   "metadata": {},
   "outputs": [],
   "source": [
    "scaler = StandardScaler()\n",
    "data_arr =scaler.fit_transform(scaler_arr)\n",
    "data_arr = data_arr.reshape(-1)"
   ]
  },
  {
   "cell_type": "code",
   "execution_count": 13,
   "id": "9be4cc3c-88a8-4387-8a23-a0eeb96ca9e4",
   "metadata": {},
   "outputs": [],
   "source": [
    "input_data= np.array([[\n",
    "    1 if gender == 'Male' else 0,\n",
    "    1 if married == 'No' else 0,\n",
    "    1 if education =='Graduate' else 0,\n",
    "    1 if self_employed =='Yes' else 0,\n",
    "    loan_term,\n",
    "    credit_history,\n",
    "    data_arr[0],\n",
    "    data_arr[1],\n",
    "    data_arr[2],\n",
    "    True if property_area =='Semi Urban' else False,\n",
    "    True if property_area =='Urban' else False,\n",
    "    True if dependents == '1' else False,\n",
    "    True if dependents == '2' else False,\n",
    "    True if dependents == '3+' else False\n",
    "]])\n",
    "    "
   ]
  },
  {
   "cell_type": "code",
   "execution_count": 14,
   "id": "0ff30efe-2ce4-4144-87c2-b0ffb5546a6b",
   "metadata": {},
   "outputs": [
    {
     "name": "stderr",
     "output_type": "stream",
     "text": [
      "C:\\Python313\\Lib\\site-packages\\sklearn\\utils\\validation.py:2739: UserWarning: X does not have valid feature names, but RandomForestClassifier was fitted with feature names\n",
      "  warnings.warn(\n"
     ]
    }
   ],
   "source": [
    "probability = model.predict_proba(input_data)[:,1]"
   ]
  },
  {
   "cell_type": "code",
   "execution_count": 15,
   "id": "7ffc0e52-a847-4442-af89-c65204162514",
   "metadata": {},
   "outputs": [
    {
     "data": {
      "text/plain": [
       "array([0.76507048])"
      ]
     },
     "execution_count": 15,
     "metadata": {},
     "output_type": "execute_result"
    }
   ],
   "source": [
    "probability"
   ]
  },
  {
   "cell_type": "code",
   "execution_count": null,
   "id": "a26a772c-6585-4f8b-a81a-7492392a1a70",
   "metadata": {},
   "outputs": [],
   "source": []
  }
 ],
 "metadata": {
  "kernelspec": {
   "display_name": "Python 3 (ipykernel)",
   "language": "python",
   "name": "python3"
  },
  "language_info": {
   "codemirror_mode": {
    "name": "ipython",
    "version": 3
   },
   "file_extension": ".py",
   "mimetype": "text/x-python",
   "name": "python",
   "nbconvert_exporter": "python",
   "pygments_lexer": "ipython3",
   "version": "3.13.1"
  }
 },
 "nbformat": 4,
 "nbformat_minor": 5
}
